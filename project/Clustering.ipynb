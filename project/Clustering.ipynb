{
 "cells": [
  {
   "cell_type": "code",
   "execution_count": 1,
   "metadata": {
    "collapsed": true
   },
   "outputs": [],
   "source": [
    "import warnings\n",
    "warnings.filterwarnings('ignore')\n",
    "\n",
    "from sqlalchemy import (create_engine, Table, Column, Integer, String, MetaData, inspect)\n",
    "import pandas as pd\n",
    "import pymysql.cursors\n",
    "import matplotlib.pyplot as plt\n",
    "import numpy as np\n",
    "import math\n",
    "import nltk"
   ]
  },
  {
   "cell_type": "code",
   "execution_count": 2,
   "metadata": {},
   "outputs": [],
   "source": [
    "connection = pymysql.connect(host='localhost',\n",
    "                             user='root',\n",
    "                             password='root',#put your password for mysql server here.\n",
    "                             db='yelp_db',\n",
    "                             charset='utf8mb4',\n",
    "                             cursorclass=pymysql.cursors.DictCursor)\n",
    "\n",
    "raw_data = pd.read_sql('''\n",
    "select business.id,\n",
    "  business.name,\n",
    "  business.latitude,\n",
    "  business.longitude,\n",
    "  business.neighborhood,\n",
    "  category.category\n",
    "  FROM category\n",
    "  inner join business on\n",
    "  business.id = category.business_id\n",
    "  where business.city =\"Pittsburgh\"\n",
    "  and category.category = \"Italian\"\n",
    "  or category.category = \"Chinese\"\n",
    "  or category.category = \"Mexican\"\n",
    "  or category.category = \"American (New)\"\n",
    "  or category.category = \"Mediterranean\"\n",
    "  or category.category = \"Japanese\"\n",
    "  or category.category = \"Thai\"\n",
    "  or category.category = \"Indian\"\n",
    "  or category.category = \"Middle Eastern\"\n",
    "  or category.category = \"Greek\"\n",
    "  or category.category = \"French\"\n",
    "  or category.category = \"Korean\"\n",
    "  or category.category = \"Turkish\"\n",
    "  or category.category = \"Caribbean\"\n",
    "  or category.category = \"Vietnamese\"\n",
    "  or category.category = \"Latin American\"\n",
    "  or category.category = \"Taiwanese\"\n",
    "  GROUP BY business.id, category.category;''',connection) #.values"
   ]
  },
  {
   "cell_type": "code",
   "execution_count": null,
   "metadata": {},
   "outputs": [],
   "source": [
    "from sklearn.preprocessing import LabelEncoder\n",
    "\n",
    "# encodes any df column of type category\n",
    "def encoder(df):\n",
    "        columnsToEncode = list(df.select_dtypes(include=['category','object']))\n",
    "        le = LabelEncoder()\n",
    "        for feature in columnsToEncode:\n",
    "            try:\n",
    "                df[feature] = le.fit_transform(df[feature])\n",
    "            except:\n",
    "                print('Error encoding '+ feature)\n",
    "        return df\n",
    "    \n",
    "from sklearn.cluster import KMeans\n",
    "features = ['latitude', 'longitude', 'category']\n",
    "pitts_cuisines = raw_data[features]\n",
    "sub_data = encoder(pitts_cuisines)\n",
    "#print(sub_data.head())\n",
    "kmeans = KMeans(n_clusters=17, random_state=0).fit(sub_data)"
   ]
  },
  {
   "cell_type": "code",
   "execution_count": null,
   "metadata": {},
   "outputs": [],
   "source": [
    "# optimal number of clusters\n",
    "from sklearn.metrics import silhouette_score\n",
    "silhouette_score(sub_data, kmeans.labels_)"
   ]
  },
  {
   "cell_type": "code",
   "execution_count": null,
   "metadata": {},
   "outputs": [],
   "source": [
    "# visualize the clusers\n",
    "from sklearn import decomposition\n",
    "pca = decomposition.PCA(n_components=10)\n",
    "pca.fit(sub_data)\n",
    "X = pca.transform(sub_data)\n",
    "X.flatten()\n",
    "\n",
    "import matplotlib.pyplot as plt\n",
    "plt.plot(X.flatten(), 'x')\n",
    "plt.show()"
   ]
  },
  {
   "cell_type": "code",
   "execution_count": null,
   "metadata": {
    "collapsed": true
   },
   "outputs": [],
   "source": []
  }
 ],
 "metadata": {
  "kernelspec": {
   "display_name": "Python 3",
   "language": "python",
   "name": "python3"
  },
  "language_info": {
   "codemirror_mode": {
    "name": "ipython",
    "version": 3
   },
   "file_extension": ".py",
   "mimetype": "text/x-python",
   "name": "python",
   "nbconvert_exporter": "python",
   "pygments_lexer": "ipython3",
   "version": "3.6.1"
  }
 },
 "nbformat": 4,
 "nbformat_minor": 2
}
