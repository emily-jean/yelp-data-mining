{
 "cells": [
  {
   "cell_type": "code",
   "execution_count": 123,
   "metadata": {},
   "outputs": [],
   "source": [
    "import warnings\n",
    "warnings.filterwarnings('ignore')\n",
    "from sqlalchemy import (create_engine, Table, Column, Integer, String, MetaData, inspect)\n",
    "import pandas as pd\n",
    "import pymysql.cursors\n",
    "import mysql.connector\n",
    "import numpy as np\n",
    "import math\n",
    "import nltk\n",
    "from sklearn.cluster import KMeans\n",
    "from sklearn.metrics import silhouette_score\n",
    "import matplotlib.pyplot as plt\n",
    "from collections import OrderedDict\n",
    "from sklearn import mixture\n",
    "%matplotlib inline"
   ]
  },
  {
   "cell_type": "code",
   "execution_count": 124,
   "metadata": {},
   "outputs": [],
   "source": [
    "############ CONNECT TO THE DATABASE - OSX/Windows ############\n",
    "# connection = pymysql.connect(host='localhost',\n",
    "#                              user='root',\n",
    "#                              password='root',#put your password for mysql server here.\n",
    "#                              db='yelp_db',\n",
    "#                              charset='utf8mb4',\n",
    "#                              cursorclass=pymysql.cursors.DictCursor)\n",
    "\n",
    "############ CONNECT TO THE DATABASE - RHEL ############\n",
    "connection = mysql.connector.connect(\n",
    "    user='root',\n",
    "    password='root',\n",
    "    host='127.0.0.1',\n",
    "    port=3306,\n",
    "    database='yelp_db')\n",
    "\n",
    "trendy_data = pd.read_sql('''\n",
    "select business.id,\n",
    "  business.name,\n",
    "  business.latitude,\n",
    "  business.longitude,\n",
    "  business.neighborhood,\n",
    "  attribute.value\n",
    "  from business\n",
    "  right join category on business.id = category.business_id\n",
    "  left join attribute on category.business_id = attribute.business_id\n",
    "  where business.city = 'Pittsburgh'\n",
    "  and category.category = 'Restaurants'\n",
    "  and attribute.value LIKE '%\"trendy\": true%'\n",
    "  order by business.neighborhood asc''',connection) #.values\n",
    "\n",
    "upscale_data = pd.read_sql('''\n",
    "select business.id,\n",
    "  business.name,\n",
    "  business.latitude,\n",
    "  business.longitude,\n",
    "  business.neighborhood,\n",
    "  attribute.value\n",
    "  from business\n",
    "  right join category on business.id = category.business_id\n",
    "  left join attribute on category.business_id = attribute.business_id\n",
    "  where business.city = 'Pittsburgh'\n",
    "  and category.category = 'Restaurants'\n",
    "  and attribute.value LIKE '%\"upscale\": true%'\n",
    "  order by business.neighborhood asc;''',connection)\n",
    "\n",
    "romantic_data = pd.read_sql('''\n",
    "select business.id,\n",
    "  business.name,\n",
    "  business.latitude,\n",
    "  business.longitude,\n",
    "  business.neighborhood,\n",
    "  attribute.value\n",
    "  from business\n",
    "  right join category on business.id = category.business_id\n",
    "  left join attribute on category.business_id = attribute.business_id\n",
    "  where business.city = 'Pittsburgh'\n",
    "  and category.category = 'Restaurants'\n",
    "  and attribute.value LIKE '%\"romantic\": true%'\n",
    "  order by business.neighborhood asc;''',connection)\n",
    "\n",
    "classy_data = pd.read_sql('''\n",
    "select business.id,\n",
    "  business.name,\n",
    "  business.latitude,\n",
    "  business.longitude,\n",
    "  business.neighborhood,\n",
    "  attribute.value\n",
    "  from business\n",
    "  right join category on business.id = category.business_id\n",
    "  left join attribute on category.business_id = attribute.business_id\n",
    "  where business.city = 'Pittsburgh'\n",
    "  and category.category = 'Restaurants'\n",
    "  and attribute.value LIKE '%\"classy\": true%'\n",
    "  order by business.neighborhood asc;''',connection)\n",
    "\n",
    "# {\"romantic\": , \"intimate\": , \"classy\": ,\n",
    "# \"hipster\": , \"divey\": , \"touristy\": ,\n",
    "# \"trendy\": , \"upscale\": , \"casual\": }\n",
    "\n",
    "divey_data = pd.read_sql('''\n",
    "select business.id,\n",
    "  business.name,\n",
    "  business.latitude,\n",
    "  business.longitude,\n",
    "  business.neighborhood,\n",
    "  attribute.value\n",
    "  from business\n",
    "  right join category on business.id = category.business_id\n",
    "  left join attribute on category.business_id = attribute.business_id\n",
    "  where business.city = 'Pittsburgh'\n",
    "  and category.category = 'Restaurants'\n",
    "  and attribute.value LIKE '%\"divey\": true%'\n",
    "  order by business.neighborhood asc;''',connection)\n",
    "\n",
    "touristy_data = pd.read_sql('''\n",
    "select business.id,\n",
    "  business.name,\n",
    "  business.latitude,\n",
    "  business.longitude,\n",
    "  business.neighborhood,\n",
    "  attribute.value\n",
    "  from business\n",
    "  right join category on business.id = category.business_id\n",
    "  left join attribute on category.business_id = attribute.business_id\n",
    "  where business.city = 'Pittsburgh'\n",
    "  and category.category = 'Restaurants'\n",
    "  and attribute.value LIKE '%\"touristy\": true%'\n",
    "  order by business.neighborhood asc;''',connection)\n",
    "\n",
    "casual_data = pd.read_sql('''\n",
    "select business.id,\n",
    "  business.name,\n",
    "  business.latitude,\n",
    "  business.longitude,\n",
    "  business.neighborhood,\n",
    "  attribute.value\n",
    "  from business\n",
    "  right join category on business.id = category.business_id\n",
    "  left join attribute on category.business_id = attribute.business_id\n",
    "  where business.city = 'Pittsburgh'\n",
    "  and category.category = 'Restaurants'\n",
    "  and attribute.value LIKE '%\"casual\": true%'\n",
    "  order by business.neighborhood asc;''',connection)\n"
   ]
  },
  {
   "cell_type": "code",
   "execution_count": 125,
   "metadata": {},
   "outputs": [
    {
     "data": {
      "text/html": [
       "<div>\n",
       "<style scoped>\n",
       "    .dataframe tbody tr th:only-of-type {\n",
       "        vertical-align: middle;\n",
       "    }\n",
       "\n",
       "    .dataframe tbody tr th {\n",
       "        vertical-align: top;\n",
       "    }\n",
       "\n",
       "    .dataframe thead th {\n",
       "        text-align: right;\n",
       "    }\n",
       "</style>\n",
       "<table border=\"1\" class=\"dataframe\">\n",
       "  <thead>\n",
       "    <tr style=\"text-align: right;\">\n",
       "      <th></th>\n",
       "      <th>latitude</th>\n",
       "      <th>longitude</th>\n",
       "      <th>neighborhood</th>\n",
       "      <th>value</th>\n",
       "    </tr>\n",
       "  </thead>\n",
       "  <tbody>\n",
       "    <tr>\n",
       "      <th>0</th>\n",
       "      <td>40.4891</td>\n",
       "      <td>-79.9007</td>\n",
       "      <td>Aspinwall</td>\n",
       "      <td>upscale</td>\n",
       "    </tr>\n",
       "    <tr>\n",
       "      <th>1</th>\n",
       "      <td>40.4807</td>\n",
       "      <td>-80.0415</td>\n",
       "      <td>Brighton Heights</td>\n",
       "      <td>upscale</td>\n",
       "    </tr>\n",
       "    <tr>\n",
       "      <th>2</th>\n",
       "      <td>40.4407</td>\n",
       "      <td>-80.0000</td>\n",
       "      <td>Downtown</td>\n",
       "      <td>upscale</td>\n",
       "    </tr>\n",
       "    <tr>\n",
       "      <th>3</th>\n",
       "      <td>40.4397</td>\n",
       "      <td>-79.9959</td>\n",
       "      <td>Downtown</td>\n",
       "      <td>upscale</td>\n",
       "    </tr>\n",
       "    <tr>\n",
       "      <th>4</th>\n",
       "      <td>40.4406</td>\n",
       "      <td>-79.9966</td>\n",
       "      <td>Downtown</td>\n",
       "      <td>upscale</td>\n",
       "    </tr>\n",
       "  </tbody>\n",
       "</table>\n",
       "</div>"
      ],
      "text/plain": [
       "   latitude  longitude      neighborhood    value\n",
       "0   40.4891   -79.9007         Aspinwall  upscale\n",
       "1   40.4807   -80.0415  Brighton Heights  upscale\n",
       "2   40.4407   -80.0000          Downtown  upscale\n",
       "3   40.4397   -79.9959          Downtown  upscale\n",
       "4   40.4406   -79.9966          Downtown  upscale"
      ]
     },
     "execution_count": 125,
     "metadata": {},
     "output_type": "execute_result"
    }
   ],
   "source": [
    "#### assign values\n",
    "upscaleDf = upscale_data[['latitude','longitude','neighborhood']]\n",
    "upscaleDf['value'] = 'upscale'\n",
    "\n",
    "trendyDf = trendy_data[['latitude','longitude','neighborhood']]\n",
    "trendyDf['value'] = 'trendy'\n",
    "\n",
    "diveyDf = divey_data[['latitude','longitude','neighborhood']]\n",
    "diveyDf['value'] = 'divey'\n",
    "\n",
    "touristyDf = touristy_data[['latitude','longitude','neighborhood']]\n",
    "touristyDf['value'] = 'touristy'\n",
    "\n",
    "casualDf = casual_data[['latitude','longitude','neighborhood']]\n",
    "casualDf['value'] = 'casual'\n",
    "\n",
    "romanticDf = romantic_data[['latitude','longitude','neighborhood']]\n",
    "romanticDf['value'] = 'romantic'\n",
    "\n",
    "classyDf = classy_data[['latitude','longitude','neighborhood']]\n",
    "classyDf['value'] = 'classy'\n",
    "\n",
    "\n",
    "\n",
    "## merge the dataframes\n",
    "frames = [upscaleDf, trendyDf, diveyDf,casualDf,romanticDf, classyDf] #touristyDf\n",
    "df = pd.concat(frames)\n",
    "df.head()"
   ]
  },
  {
   "cell_type": "code",
   "execution_count": 126,
   "metadata": {},
   "outputs": [
    {
     "data": {
      "text/plain": [
       "                     254\n",
       "Downtown             141\n",
       "South Side            86\n",
       "Oakland               77\n",
       "Squirrel Hill         57\n",
       "Shadyside             55\n",
       "Strip District        50\n",
       "Lawrenceville         49\n",
       "Bloomfield            45\n",
       "North Side            38\n",
       "East Liberty          18\n",
       "Dormont               16\n",
       "Duquesne Heights      13\n",
       "Mt. Washington        10\n",
       "Beechview             10\n",
       "The Hill District     10\n",
       "West View              9\n",
       "Greenfield             8\n",
       "Garfield               8\n",
       "West End               8\n",
       "Highland Park          7\n",
       "Greentree              6\n",
       "Brookline              6\n",
       "Aspinwall              6\n",
       "Banksville             5\n",
       "Brighton Heights       5\n",
       "Troy Hill              5\n",
       "Point Breeze           4\n",
       "Regent Square          3\n",
       "Millvale               3\n",
       "Etna                   3\n",
       "Allentown              3\n",
       "Homewood               2\n",
       "Emsworth               2\n",
       "Carrick                2\n",
       "Sharpsburg             2\n",
       "Bon Air                2\n",
       "Friendship             2\n",
       "Bellevue               2\n",
       "Larimer                2\n",
       "Hazelwood              1\n",
       "Overbrook              1\n",
       "Homestead              1\n",
       "Avalon                 1\n",
       "Name: neighborhood, dtype: int64"
      ]
     },
     "execution_count": 126,
     "metadata": {},
     "output_type": "execute_result"
    }
   ],
   "source": [
    "df.neighborhood.value_counts() # there are 46 neighborhoods"
   ]
  },
  {
   "cell_type": "code",
   "execution_count": 127,
   "metadata": {},
   "outputs": [
    {
     "data": {
      "text/plain": [
       "casual      780\n",
       "divey        89\n",
       "trendy       88\n",
       "classy       41\n",
       "upscale      21\n",
       "romantic     19\n",
       "Name: value, dtype: int64"
      ]
     },
     "execution_count": 127,
     "metadata": {},
     "output_type": "execute_result"
    }
   ],
   "source": [
    "df.value.value_counts()"
   ]
  },
  {
   "cell_type": "code",
   "execution_count": 128,
   "metadata": {},
   "outputs": [
    {
     "data": {
      "text/plain": [
       "<matplotlib.text.Text at 0x7fbd3887c8d0>"
      ]
     },
     "execution_count": 128,
     "metadata": {},
     "output_type": "execute_result"
    },
    {
     "data": {
      "image/png": "[encoded data removed]",
      "text/plain": [
       "<matplotlib.figure.Figure at 0x7fbd38b71940>"
      ]
     },
     "metadata": {},
     "output_type": "display_data"
    }
   ],
   "source": [
    "downtown = df.loc[df['neighborhood'] == 'Downtown']\n",
    "p = downtown['value'].value_counts(sort=True).plot.bar()\n",
    "p.set_title(\"Downtown\")\n",
    "p.set_xlabel(\"Attribute\")\n",
    "p.set_ylabel(\"count\")"
   ]
  },
  {
   "cell_type": "code",
   "execution_count": 129,
   "metadata": {},
   "outputs": [],
   "source": [
    "df['neighborhood'].replace('',0,inplace=True)\n",
    "df['neighborhood'].replace('Downtown',1, inplace=True)\n",
    "df['neighborhood'].replace('South Side',2, inplace=True)\n",
    "df['neighborhood'].replace('Oakland',3, inplace=True)\n",
    "df['neighborhood'].replace('Squirrel Hill',4, inplace=True)\n",
    "df['neighborhood'].replace('Shadyside',5, inplace=True)\n",
    "df['neighborhood'].replace('Strip District',6, inplace=True)\n",
    "df['neighborhood'].replace('Lawrenceville',7, inplace=True)\n",
    "df['neighborhood'].replace('Bloomfield',8, inplace=True)\n",
    "df['neighborhood'].replace('North Side',9, inplace=True)\n",
    "df['neighborhood'].replace('East Liberty',10, inplace=True)\n",
    "df['neighborhood'].replace('Dormont',11, inplace=True)\n",
    "df['neighborhood'].replace('Duquesne Heights',12, inplace=True)\n",
    "df['neighborhood'].replace('Beechview',13, inplace=True)\n",
    "df['neighborhood'].replace('Mt. Washington',15, inplace=True)\n",
    "df['neighborhood'].replace('The Hill District',15, inplace=True)\n",
    "df['neighborhood'].replace('West View ',16, inplace=True)\n",
    "df['neighborhood'].replace('West End',17, inplace=True)\n",
    "df['neighborhood'].replace('Garfield',18, inplace=True)\n",
    "df['neighborhood'].replace('Greenfield',19, inplace=True)\n",
    "df['neighborhood'].replace('Highland Park',20, inplace=True)\n",
    "df['neighborhood'].replace('Brookline',21, inplace=True)\n",
    "df['neighborhood'].replace('Aspinwall',22, inplace=True)\n",
    "df['neighborhood'].replace('Greenfield',23, inplace=True)\n",
    "df['neighborhood'].replace('Troy Hill',24, inplace=True)\n",
    "df['neighborhood'].replace('Brighton Heights',25, inplace=True)\n",
    "df['neighborhood'].replace('Banksville',26, inplace=True)\n",
    "df['neighborhood'].replace('Point Breeze',27, inplace=True)\n",
    "df['neighborhood'].replace('Allentown',28, inplace=True)\n",
    "df['neighborhood'].replace('Regent Square',29, inplace=True)\n",
    "df['neighborhood'].replace('Etna',30, inplace=True)\n",
    "df['neighborhood'].replace('Millvale',31, inplace=True)\n",
    "df['neighborhood'].replace('Sharpsburg',32, inplace=True)\n",
    "df['neighborhood'].replace('Emsworth',33, inplace=True)\n",
    "df['neighborhood'].replace('Larimer',34, inplace=True)\n",
    "df['neighborhood'].replace('Carrick',35, inplace=True)\n",
    "df['neighborhood'].replace('Bellevue',36, inplace=True)\n",
    "df['neighborhood'].replace('Friendship',37, inplace=True)\n",
    "df['neighborhood'].replace('Homewood',38, inplace=True)\n",
    "df['neighborhood'].replace('Bon Air',39, inplace=True)\n",
    "df['neighborhood'].replace('Overbrook',40, inplace=True)\n",
    "df['neighborhood'].replace('Avalon',41, inplace=True)\n",
    "df['neighborhood'].replace('Hazelwood',42, inplace=True)\n",
    "df['neighborhood'].replace('West View',43, inplace=True)\n",
    "df['neighborhood'].replace('Greentree',44, inplace=True)\n",
    "df['neighborhood'].replace('Homestead',45, inplace=True)"
   ]
  },
  {
   "cell_type": "code",
   "execution_count": 130,
   "metadata": {},
   "outputs": [],
   "source": [
    "# drop all the neighborhoods except downtown\n",
    "df = df[df.neighborhood != 0]\n",
    "\n",
    "df = df[df.neighborhood != 2]\n",
    "df = df[df.neighborhood != 3]\n",
    "df = df[df.neighborhood != 4]\n",
    "df = df[df.neighborhood != 5]\n",
    "df = df[df.neighborhood != 6]\n",
    "df = df[df.neighborhood != 7]\n",
    "df = df[df.neighborhood != 8]\n",
    "df = df[df.neighborhood != 9]\n",
    "df = df[df.neighborhood != 10]\n",
    "df = df[df.neighborhood != 11]\n",
    "df = df[df.neighborhood != 12]\n",
    "df = df[df.neighborhood != 13]\n",
    "df = df[df.neighborhood != 14]\n",
    "df = df[df.neighborhood != 15]\n",
    "df = df[df.neighborhood != 16]\n",
    "df = df[df.neighborhood != 17]\n",
    "df = df[df.neighborhood != 18]\n",
    "df = df[df.neighborhood != 19]\n",
    "df = df[df.neighborhood != 20]\n",
    "df = df[df.neighborhood != 21]\n",
    "df = df[df.neighborhood != 22]\n",
    "df = df[df.neighborhood != 23]\n",
    "df = df[df.neighborhood != 24]\n",
    "df = df[df.neighborhood != 25]\n",
    "df = df[df.neighborhood != 26]\n",
    "df = df[df.neighborhood != 27]\n",
    "df = df[df.neighborhood != 28]\n",
    "df = df[df.neighborhood != 29]\n",
    "df = df[df.neighborhood != 30]\n",
    "df = df[df.neighborhood != 31]\n",
    "df = df[df.neighborhood != 32]\n",
    "df = df[df.neighborhood != 33]\n",
    "df = df[df.neighborhood != 34]\n",
    "df = df[df.neighborhood != 35]\n",
    "df = df[df.neighborhood != 36]\n",
    "df = df[df.neighborhood != 37]\n",
    "df = df[df.neighborhood != 38]\n",
    "df = df[df.neighborhood != 39]\n",
    "df = df[df.neighborhood != 40]\n",
    "df = df[df.neighborhood != 41]\n",
    "df = df[df.neighborhood != 42]\n",
    "df = df[df.neighborhood != 43]\n",
    "df = df[df.neighborhood != 44]\n",
    "df = df[df.neighborhood != 45]"
   ]
  },
  {
   "cell_type": "code",
   "execution_count": 131,
   "metadata": {},
   "outputs": [
    {
     "data": {
      "text/plain": [
       "1    141\n",
       "Name: neighborhood, dtype: int64"
      ]
     },
     "execution_count": 131,
     "metadata": {},
     "output_type": "execute_result"
    }
   ],
   "source": [
    "df.neighborhood.value_counts()"
   ]
  },
  {
   "cell_type": "code",
   "execution_count": 132,
   "metadata": {},
   "outputs": [
    {
     "data": {
      "text/plain": [
       "casual     87\n",
       "trendy     25\n",
       "classy     11\n",
       "upscale    10\n",
       "divey       8\n",
       "Name: value, dtype: int64"
      ]
     },
     "execution_count": 132,
     "metadata": {},
     "output_type": "execute_result"
    }
   ],
   "source": [
    "df.value.value_counts()"
   ]
  },
  {
   "cell_type": "code",
   "execution_count": 133,
   "metadata": {},
   "outputs": [],
   "source": [
    "new_dfh = df[['latitude','longitude']].copy()"
   ]
  },
  {
   "cell_type": "code",
   "execution_count": 134,
   "metadata": {},
   "outputs": [],
   "source": [
    "df = df[['latitude','longitude','value','neighborhood']].copy() \n",
    "df[['latitude','longitude']] = (df[['latitude','longitude']].sub(df[['latitude','longitude']].mean())).divide(df[['latitude','longitude']].std())\n",
    "\n",
    "topDf = df.copy()\n",
    "categoryList = df['value'].tolist()\n",
    "\n",
    "def topCategories(categoryList):\n",
    "    n = []\n",
    "    for i in categoryList:\n",
    "         n += [i.split(',')]   \n",
    "    count={}\n",
    "    for i in n:\n",
    "        for j in i:\n",
    "            if j not in count:\n",
    "                count[j]=1\n",
    "            else:\n",
    "                count[j] = count[j] +1\n",
    "    return OrderedDict(sorted(count.items(), key=lambda a:a[1], reverse=True))    \n",
    "\n",
    "def convert(j):\n",
    "    for i in top:\n",
    "        if(i == j):\n",
    "            return(top.index(i)+1)\n",
    "        \n",
    "top = list(topCategories(categoryList))[0:15]\n",
    "topCatNames=[]\n",
    "topCatNames = top\n",
    "c =[]\n",
    "for i in df['value']:\n",
    "    row = i.split(',')\n",
    "    c += [[convert(j) for j in row if j in top]]\n",
    "topDf['value'] = c\n",
    "topDf = topDf.reset_index(drop = True)\n",
    "a = np.zeros(shape=(len(topDf['value']),15))\n",
    "i=0\n",
    "for j in c:\n",
    "    for k in j:\n",
    "        a[i,k-1]=1\n",
    "    i+=1\n",
    "top = pd.DataFrame.from_records(a)\n",
    "top[['latitude','longitude']] = topDf[['latitude','longitude']]\n",
    "\n",
    "#print(top)"
   ]
  },
  {
   "cell_type": "code",
   "execution_count": 135,
   "metadata": {},
   "outputs": [
    {
     "data": {
      "image/png": "[encoded data removed]",
      "text/plain": [
       "<matplotlib.figure.Figure at 0x7fbd38c070b8>"
      ]
     },
     "metadata": {},
     "output_type": "display_data"
    }
   ],
   "source": [
    "# evaluate the clusters\n",
    "n = 11 # max clusters\n",
    "error = np.zeros(n)\n",
    "error[0] = 0;\n",
    "for k in range(1,n):\n",
    "    kmeans = KMeans(init='k-means++', n_clusters=k, n_init=10)\n",
    "    kmeans.fit_predict(top)\n",
    "    error[k] = kmeans.inertia_\n",
    "plt.figure(1)\n",
    "plt.plot(range(1,len(error)),error[1:])\n",
    "plt.xlabel('clusters')\n",
    "plt.ylabel('error')\n",
    "plt.savefig('error_kmeans_attributes.pdf', bbox_inches='tight')"
   ]
  },
  {
   "cell_type": "code",
   "execution_count": 136,
   "metadata": {},
   "outputs": [
    {
     "data": {
      "text/plain": [
       "0.34855178131361264"
      ]
     },
     "execution_count": 136,
     "metadata": {},
     "output_type": "execute_result"
    }
   ],
   "source": [
    "kmeans = KMeans(init='k-means++', n_clusters=3, n_init=100) \n",
    "km = kmeans.fit_predict(top)\n",
    "labels = kmeans.labels_\n",
    "\n",
    "silhouette_score(top, labels, metric='euclidean')"
   ]
  },
  {
   "cell_type": "code",
   "execution_count": 137,
   "metadata": {},
   "outputs": [
    {
     "data": {
      "text/plain": [
       "85.109715143509163"
      ]
     },
     "execution_count": 137,
     "metadata": {},
     "output_type": "execute_result"
    }
   ],
   "source": [
    "from sklearn import metrics\n",
    "metrics.calinski_harabaz_score(top, labels) "
   ]
  },
  {
   "cell_type": "code",
   "execution_count": 138,
   "metadata": {},
   "outputs": [
    {
     "data": {
      "image/png": "[encoded data removed]",
      "text/plain": [
       "<matplotlib.figure.Figure at 0x7fbd386a4f98>"
      ]
     },
     "metadata": {},
     "output_type": "display_data"
    }
   ],
   "source": [
    "def createCentroids(centroids):\n",
    "    y = 0  \n",
    "    for i in centroids:\n",
    "        plt.scatter(i[16],i[15],s=50,c='black',marker='*',linewidth=2)\n",
    "        plt.annotate(labelsKm[y],xy=(i[16],i[15]))\n",
    "        y+=1\n",
    "    \n",
    "def createScatter(clusters):\n",
    "    colors = ['red','orange','yellow','green','blue','purple']\n",
    "    x = 0\n",
    "    for i in clusters:\n",
    "        for j in i:\n",
    "            plt.scatter(top['longitude'][j],top['latitude'][j], color=colors[x]) #org: lat, long\n",
    "        x=x+1\n",
    "        \n",
    "def labels(cluster):\n",
    "    count = {}\n",
    "    for i in cluster[0]:\n",
    "        for j in topDf['value'][i]:\n",
    "            if j not in count:\n",
    "                count[j] = 1\n",
    "            else:\n",
    "                count[j] +=1\n",
    "    return OrderedDict(sorted(count.items(), key=lambda kv:kv[1], reverse=True))\n",
    "\n",
    "def clusterLabel(lc,topCounts):\n",
    "    maxx = 0\n",
    "    index=0\n",
    "    for key,value in lc.items():\n",
    "        temp = value/topCounts[key-1]\n",
    "        if(temp>maxx):\n",
    "            maxx = temp\n",
    "            index = key-1\n",
    "    return topCatNames[index]\n",
    "\n",
    "topCounts = list(topCategories(categoryList).values())[0:15]\n",
    "labelsKm = []\n",
    "km0 = np.where(km==0)\n",
    "lc = labels(km0)\n",
    "labelsKm.append(clusterLabel(lc, topCounts))\n",
    "km1 = np.where(km==1)\n",
    "lc = labels(km1)\n",
    "labelsKm.append(clusterLabel(lc, topCounts))\n",
    "\n",
    "km2 = np.where(km==2)\n",
    "lc = labels(km2)\n",
    "labelsKm.append(clusterLabel(lc, topCounts))\n",
    "\n",
    "# km3 = np.where(km==3)\n",
    "# lc = labels(km3)\n",
    "# labelsKm.append(clusterLabel(lc, topCounts))\n",
    "\n",
    "# km4 = np.where(km==4)\n",
    "# lc = labels(km4)\n",
    "# labelsKm.append(clusterLabel(lc, topCounts))\n",
    "\n",
    "# km5 = np.where(km==5)\n",
    "# lc = labels(km5)\n",
    "# labelsKm.append(clusterLabel(lc, topCounts))\n",
    "\n",
    "\n",
    "clusters = [km0,km1,km2]\n",
    "createScatter(clusters)\n",
    "createCentroids(kmeans.cluster_centers_)\n",
    "\n",
    "plt.title('KMeans')\n",
    "plt.xlabel('longitude') # latitude\n",
    "plt.ylabel('latitude')\n",
    "legend = plt.legend([labelsKm[i] for i in range(len(labelsKm))],bbox_to_anchor=(1.05, 1),\n",
    "                    loc=2, borderaxespad=0.,fontsize=15)\n",
    "\n",
    "plt.savefig('kmeans_attributes.pdf', bbox_extra_artists=(legend,), bbox_inches='tight')\n",
    "plt.show()"
   ]
  },
  {
   "cell_type": "code",
   "execution_count": 139,
   "metadata": {},
   "outputs": [
    {
     "data": {
      "image/png": "[encoded data removed]",
      "text/plain": [
       "<matplotlib.figure.Figure at 0x7fbd3871f2b0>"
      ]
     },
     "metadata": {},
     "output_type": "display_data"
    }
   ],
   "source": [
    "labelsGmm=[]\n",
    "gmm = mixture.GMM(n_components=3,covariance_type='spherical')\n",
    "gmm.fit(top)\n",
    "gaussian = gmm.predict(top)\n",
    "g0 = np.where(gaussian==0)\n",
    "x= labels(g0)\n",
    "labelsGmm.append(clusterLabel(x, topCounts))\n",
    "g1 = np.where(gaussian==1)\n",
    "x= labels(g1)\n",
    "labelsGmm.append(clusterLabel(x, topCounts))\n",
    "g2 = np.where(gaussian==2)\n",
    "x= labels(g2)\n",
    "labelsGmm.append(clusterLabel(x, topCounts))\n",
    "\n",
    "\n",
    "clustersGmm = [g0,g1,g2] \n",
    "createScatter(clustersGmm)\n",
    "plt.title('GMM')\n",
    "plt.xlabel('longitude') #latitude\n",
    "plt.ylabel('latitude') #longitude\n",
    "legend = plt.legend([labelsGmm[i] for i in range(len(labelsGmm))],bbox_to_anchor=(1.05, 1), loc=2, borderaxespad=0.,fontsize=15)\n",
    "plt.show()"
   ]
  },
  {
   "cell_type": "code",
   "execution_count": null,
   "metadata": {},
   "outputs": [],
   "source": []
  },
  {
   "cell_type": "code",
   "execution_count": null,
   "metadata": {},
   "outputs": [],
   "source": []
  }
 ],
 "metadata": {
  "kernelspec": {
   "display_name": "Python 3",
   "language": "python",
   "name": "python3"
  },
  "language_info": {
   "codemirror_mode": {
    "name": "ipython",
    "version": 3
   },
   "file_extension": ".py",
   "mimetype": "text/x-python",
   "name": "python",
   "nbconvert_exporter": "python",
   "pygments_lexer": "ipython3",
   "version": "3.5.4"
  }
 },
 "nbformat": 4,
 "nbformat_minor": 2
}
